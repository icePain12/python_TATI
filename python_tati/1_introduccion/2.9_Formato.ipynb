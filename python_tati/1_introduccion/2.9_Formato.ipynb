{
 "cells": [
  {
   "attachments": {},
   "cell_type": "markdown",
   "metadata": {},
   "source": [
    "# <font color=\"00AAA\">2.9 Formateo</font>\n",
    "# '{} es el primer valor y {} es el segundo' .format(1,2)"
   ]
  },
  {
   "attachments": {},
   "cell_type": "markdown",
   "metadata": {},
   "source": [
    "'En este caso alteramos el orden y el {1} aparece primero, luego el {0} '.format('Uno','Dos')"
   ]
  },
  {
   "cell_type": "code",
   "execution_count": 1,
   "metadata": {},
   "outputs": [
    {
     "name": "stdout",
     "output_type": "stream",
     "text": [
      "El valor de Pyton para principiantes es 0.7\n"
     ]
    }
   ],
   "source": [
    "nombre = 'Pyton para principiantes'\n",
    "x = .7\n",
    "print(f'El valor de {nombre} es', x)"
   ]
  },
  {
   "attachments": {},
   "cell_type": "markdown",
   "metadata": {},
   "source": [
    "## *Tambien podmeos aplicar métodos*"
   ]
  },
  {
   "cell_type": "code",
   "execution_count": 2,
   "metadata": {},
   "outputs": [
    {
     "name": "stdout",
     "output_type": "stream",
     "text": [
      "El valor de Pyton Para Principiantes\n",
      " es  0.7 dolares por el libro\n"
     ]
    }
   ],
   "source": [
    "print(f'El valor de {nombre.title()}\\n es ',x,'dolares por el libro')"
   ]
  },
  {
   "cell_type": "code",
   "execution_count": 3,
   "metadata": {},
   "outputs": [
    {
     "ename": "NameError",
     "evalue": "name 'x__add__' is not defined",
     "output_type": "error",
     "traceback": [
      "\u001b[1;31m---------------------------------------------------------------------------\u001b[0m",
      "\u001b[1;31mNameError\u001b[0m                                 Traceback (most recent call last)",
      "Cell \u001b[1;32mIn[3], line 1\u001b[0m\n\u001b[1;32m----> 1\u001b[0m diccionario \u001b[39m=\u001b[39m {\u001b[39m'\u001b[39m\u001b[39muno\u001b[39m\u001b[39m'\u001b[39m:x,\u001b[39m'\u001b[39m\u001b[39mdos\u001b[39m\u001b[39m'\u001b[39m:x__add__(\u001b[39m10\u001b[39m)}\n\u001b[0;32m      2\u001b[0m \u001b[39mprint\u001b[39m(diccionario)\n",
      "\u001b[1;31mNameError\u001b[0m: name 'x__add__' is not defined"
     ]
    }
   ],
   "source": [
    "diccionario = {'uno':x,'dos':x__add__(10)}\n",
    "\n",
    "print(diccionario)"
   ]
  },
  {
   "attachments": {},
   "cell_type": "markdown",
   "metadata": {},
   "source": []
  }
 ],
 "metadata": {
  "kernelspec": {
   "display_name": "Python 3",
   "language": "python",
   "name": "python3"
  },
  "language_info": {
   "codemirror_mode": {
    "name": "ipython",
    "version": 3
   },
   "file_extension": ".py",
   "mimetype": "text/x-python",
   "name": "python",
   "nbconvert_exporter": "python",
   "pygments_lexer": "ipython3",
   "version": "3.10.10"
  },
  "orig_nbformat": 4
 },
 "nbformat": 4,
 "nbformat_minor": 2
}
