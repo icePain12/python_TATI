{
 "cells": [
  {
   "attachments": {},
   "cell_type": "markdown",
   "metadata": {},
   "source": [
    "# <font color=\"00AAA\">2.10 Ejercicio</font>\n",
    "## *1) Define una variable edad y Asignale un valor entero.*\n",
    "-Muestra su valor en pantalla.\n",
    "\n",
    "-Define otra variable edad_cadena que contenga el valor de edad como una cadena de caracteres.\n",
    "\n",
    "-Comprueba el tipo de la nueva variable.\n",
    "\n",
    "-Utiliza la variable edad que definiste prevamente y calcula la edad que tendría esa persona en el año 2035.\n",
    "\n"
   ]
  },
  {
   "cell_type": "code",
   "execution_count": 1,
   "metadata": {},
   "outputs": [
    {
     "name": "stdout",
     "output_type": "stream",
     "text": [
      "15\n"
     ]
    }
   ],
   "source": [
    "edad = 15\n",
    "print(f'{edad}')\n",
    "\n"
   ]
  },
  {
   "cell_type": "code",
   "execution_count": 2,
   "metadata": {},
   "outputs": [
    {
     "name": "stdout",
     "output_type": "stream",
     "text": [
      "15\n"
     ]
    }
   ],
   "source": [
    "edad_cadena = str(edad)\n",
    "print(edad_cadena)"
   ]
  },
  {
   "cell_type": "code",
   "execution_count": 7,
   "metadata": {},
   "outputs": [
    {
     "data": {
      "text/plain": [
       "str"
      ]
     },
     "execution_count": 7,
     "metadata": {},
     "output_type": "execute_result"
    }
   ],
   "source": [
    "type(edad_cadena)"
   ]
  },
  {
   "cell_type": "code",
   "execution_count": 17,
   "metadata": {},
   "outputs": [
    {
     "name": "stdout",
     "output_type": "stream",
     "text": [
      "la persona tendrá 27 años en el 2035\n"
     ]
    }
   ],
   "source": [
    "print(f'la persona tendrá {edad.__add__(2035-2023)} años en el 2035')"
   ]
  },
  {
   "attachments": {},
   "cell_type": "markdown",
   "metadata": {},
   "source": [
    "## *2) Al realizar una consulta en un regitro, hemos recibio unos valores corruptos. Al parecer entrega el nombre y apellido del alumno al revés. ¿Qué se puede hacere para obtener el sigiente mensaje en pantalla?*\n",
    "NOMBRE APELLIDO ha sacado un NOTA\n"
   ]
  },
  {
   "cell_type": "code",
   "execution_count": 33,
   "metadata": {},
   "outputs": [
    {
     "name": "stdout",
     "output_type": "stream",
     "text": [
      "10 ,Héctor Sánchez\n"
     ]
    }
   ],
   "source": [
    "cadena=\"zehcnáS rotcéH, 01\"\n",
    "cadena_inv = cadena[::-1]\n",
    "print(cadena_inv)"
   ]
  },
  {
   "cell_type": "code",
   "execution_count": 37,
   "metadata": {},
   "outputs": [
    {
     "ename": "IndexError",
     "evalue": "string index out of range",
     "output_type": "error",
     "traceback": [
      "\u001b[1;31m---------------------------------------------------------------------------\u001b[0m",
      "\u001b[1;31mIndexError\u001b[0m                                Traceback (most recent call last)",
      "Cell \u001b[1;32mIn[37], line 3\u001b[0m\n\u001b[0;32m      1\u001b[0m cadena\u001b[39m=\u001b[39m\u001b[39m\"\u001b[39m\u001b[39mzehcnáS rotcéH, 01\u001b[39m\u001b[39m\"\u001b[39m\n\u001b[0;32m      2\u001b[0m \u001b[39mfor\u001b[39;00m i \u001b[39min\u001b[39;00m \u001b[39mrange\u001b[39m(\u001b[39mlen\u001b[39m(cadena), \u001b[39m-\u001b[39m\u001b[39m1\u001b[39m, \u001b[39m-\u001b[39m\u001b[39m1\u001b[39m):\n\u001b[1;32m----> 3\u001b[0m     \u001b[39mprint\u001b[39m(cadena[i])\n",
      "\u001b[1;31mIndexError\u001b[0m: string index out of range"
     ]
    }
   ],
   "source": [
    "cadena=\"zehcnáS rotcéH, 01\"\n",
    "for i in range(len(cadena), 0, -1):\n",
    "    print(cadena[i])\n",
    "\n",
    "    \n"
   ]
  }
 ],
 "metadata": {
  "kernelspec": {
   "display_name": "Python 3",
   "language": "python",
   "name": "python3"
  },
  "language_info": {
   "codemirror_mode": {
    "name": "ipython",
    "version": 3
   },
   "file_extension": ".py",
   "mimetype": "text/x-python",
   "name": "python",
   "nbconvert_exporter": "python",
   "pygments_lexer": "ipython3",
   "version": "3.10.10"
  },
  "orig_nbformat": 4
 },
 "nbformat": 4,
 "nbformat_minor": 2
}
