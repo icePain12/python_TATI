{
 "cells": [
  {
   "attachments": {},
   "cell_type": "markdown",
   "metadata": {},
   "source": [
    "# Titulo\n",
    "## Titulo 2\n",
    "\n",
    "# <font color=\"#00AAA\">**Bloque de Cita**</font>\n",
    "### **Utilice el símbolo \\> para realizar bloques de citas de texto.**\n",
    "> Este es <br> un Bloque <br> de Cita.\n",
    "### **Alternativamente es posible utilizar la etiqueta de HTML BLOCKQUOTE.**\n",
    "# <font color=\"#00AAA\">**Sección de Código</font>\n",
    "### **Utilice el simbolo \\'\\'\\' al inicio y final del bloque de código.\n",
    "```Python\n",
    "\n",
    " str = \"Este es un bloque de código\"\n",
    " print(str);\n",
    " ### **Alternativamente es posible utilizar la etiqueta de HTML CODE, sin embargo perderá el formato.**\n",
    " <br><br>\n",
    "\n",
    "*Texto en Cursiva*"
   ]
  },
  {
   "attachments": {},
   "cell_type": "markdown",
   "metadata": {},
   "source": [
    "# <font color=\"00AAA\">**Cursiva**</font>\n",
    "### **Para cambiar el texto a cursiva utilice el símbolo \\* antes y despues del texto.**\n",
    "*Texto en Cursiva*\n",
    "<br><br>"
   ]
  },
  {
   "attachments": {},
   "cell_type": "markdown",
   "metadata": {},
   "source": [
    "# <font color=\"00AAA\">**Negritas**</font>\n",
    "### **Para cambiar el texto a negritas utilice los símbolos \\*\\* antes y despues del texto.**\n",
    "**Negritas**"
   ]
  },
  {
   "cell_type": "code",
   "execution_count": null,
   "metadata": {},
   "outputs": [],
   "source": []
  },
  {
   "attachments": {},
   "cell_type": "markdown",
   "metadata": {},
   "source": [
    "# <font color=\"00AAA\">**Línea Horizontal**</font>\n",
    "### **Para dibujar una línea horizontal utilice los símbolos \\-\\-\\-**\n",
    "---\n",
    "<br><br>"
   ]
  },
  {
   "attachments": {},
   "cell_type": "markdown",
   "metadata": {},
   "source": [
    "# <font color=\"#00AAA\">**Lista Ordenada**</font>\n",
    "### **Para realizar una lista ordenada deberá insertar el número 1 junto con \\. para cada inciso.**\n",
    "1. Primer Elemento\n",
    "1. Segundo Elemento\n",
    "1. Tercer Elemento\n",
    "    1. Hijo1\n",
    "    1. Hijo2\n",
    "    1. Hijo3\n",
    "### **Alternativamente es posible utilizar la etiqueta HTML OL y LI**  \n",
    "<br><br> "
   ]
  },
  {
   "cell_type": "markdown",
   "metadata": {},
   "source": []
  },
  {
   "attachments": {},
   "cell_type": "markdown",
   "metadata": {},
   "source": [
    "# <font color=\"#00AAA\">**Lista Ordenada**</font>\n",
    "### **Para insertar una lista no ordenada deberá de insertar el simbolo -o + o * al inicio de cada inciso.**\n",
    "- Item con \\-\n",
    "+ Item con \\+\n",
    "* Item con \\*\n",
    "    - Subitem 1\n",
    "    + Subitem 2\n",
    "    * Subitem 3\n",
    "\n",
    "### **Alternativamente es posible utilizar la etiqueta HTML UL y LI** \n",
    "<br><br> "
   ]
  },
  {
   "attachments": {},
   "cell_type": "markdown",
   "metadata": {},
   "source": [
    "# <fonts color=\"00AAA\">**Links**</fonts>\n",
    "### **Para insertar un link se deberá de respetar la siguiente sintaxis:**\n",
    "  ```[Texto_del_Link](#id_seccion)\n",
    "  ```\n",
    "  [IR_a_Jupyter](https://jupyter.org)\n",
    "  ### **Alternativamente es posible utilizar la etiqueta HTML A.**\n",
    "  <a href=\"https://www.google.com\">Ir a google </a>\n",
    "  <br><br>\n",
    "  "
   ]
  },
  {
   "cell_type": "markdown",
   "metadata": {},
   "source": []
  },
  {
   "attachments": {},
   "cell_type": "markdown",
   "metadata": {},
   "source": [
    "# <font color=\"#00AAA\">**Tablas**</font>\n",
    "### **Para insertar una tabla es posible utilizar el símbolo | como separador de columnas y el símbolo \\- para separar la primera fila del resto de la tabla de datos.**\n",
    "|Nombre|Direccion|Salario|\n",
    "|------|---------|-------|\n",
    "|Hanna|Brisbane|4000|\n",
    "|Adam|Sydney|5000|\n",
    "\n",
    "### **Alternativamente es posible utilizar las etiquetas HTML TABLE, TR, TH Y TD,**\n"
   ]
  },
  {
   "attachments": {},
   "cell_type": "markdown",
   "metadata": {},
   "source": [
    "<font color=\"00AAA\">**Imágenes**</font>\n",
    "### **Para insertar una imagen es necesario seguir la siguiente sintaxis:**\n",
    "```\n",
    "![título de la imagen](dir/imagen.extension)\n",
    "```\n",
    "![Bulbasaur](./imgs/bulbasaur.png)\n",
    "![Bulbasaur gif](./imgs/bulbasaur.gif)\n",
    "\n",
    "\n",
    "## **Alternativamente es posible utilizar la etiqueta HTML IMG.**\n",
    "\n"
   ]
  },
  {
   "cell_type": "markdown",
   "metadata": {},
   "source": []
  }
 ],
 "metadata": {
  "kernelspec": {
   "display_name": "Python 3",
   "language": "python",
   "name": "python3"
  },
  "language_info": {
   "codemirror_mode": {
    "name": "ipython",
    "version": 3
   },
   "file_extension": ".py",
   "mimetype": "text/x-python",
   "name": "python",
   "nbconvert_exporter": "python",
   "pygments_lexer": "ipython3",
   "version": "3.10.10"
  },
  "orig_nbformat": 4
 },
 "nbformat": 4,
 "nbformat_minor": 2
}
